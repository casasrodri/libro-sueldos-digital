{
 "cells": [
  {
   "cell_type": "markdown",
   "metadata": {},
   "source": [
    "## Importación de librerías y declaración de funciones"
   ]
  },
  {
   "cell_type": "code",
   "execution_count": 1,
   "metadata": {},
   "outputs": [],
   "source": [
    "import diseño_registro\n",
    "from lector_archivo import ArchivoPresentacion\n",
    "\n",
    "def dbl_con_ceros(num, cant):\n",
    "    return \"{:.2f}\".format(num).replace('.','').zfill(cant)"
   ]
  },
  {
   "cell_type": "markdown",
   "metadata": {},
   "source": [
    "## Apertura del TXT"
   ]
  },
  {
   "cell_type": "code",
   "execution_count": 2,
   "metadata": {},
   "outputs": [],
   "source": [
    "txt = ArchivoPresentacion(r\"A10_MESPASANTES_A24.txt\")"
   ]
  },
  {
   "cell_type": "markdown",
   "metadata": {},
   "source": [
    "## Modificación de datos dentro del TXT"
   ]
  },
  {
   "cell_type": "markdown",
   "metadata": {},
   "source": [
    "### [Ejemplo] Modificación del código de liquidación para ciertos CUILs:"
   ]
  },
  {
   "cell_type": "code",
   "execution_count": 3,
   "metadata": {},
   "outputs": [],
   "source": [
    "cuils_modificar = \"\"\"\n",
    "27257004290\n",
    "20220879144\n",
    "\"\"\"\n",
    "\n",
    "# Respetar el ancho del string\n",
    "codigo_anterior = '/321      '\n",
    "codigo_nuevo = '/XXXxxx   '"
   ]
  },
  {
   "cell_type": "code",
   "execution_count": null,
   "metadata": {},
   "outputs": [],
   "source": [
    "cuils_modificar = cuils_modificar.strip().split('\\n')\n",
    "\n",
    "for emp in txt.empleados:\n",
    "    if emp in cuils_modificar: # Si es para todos, esta comprobación no se haría.\n",
    "        for concepto in emp.conceptos:\n",
    "            if concepto['codigo_concepto_liquidado'] == codigo_anterior:\n",
    "                concepto['codigo_concepto_liquidado'] = codigo_nuevo\n",
    "                concepto['cantidad'] = '00000'\n",
    "                concepto['unidades'] = ' '"
   ]
  },
  {
   "cell_type": "markdown",
   "metadata": {},
   "source": [
    "### [Ejemplo] Verificación de que la remuneracion 10 no sea menor al MNI:"
   ]
  },
  {
   "cell_type": "code",
   "execution_count": 5,
   "metadata": {},
   "outputs": [],
   "source": [
    "MINIMO_NO_IMPONIBLE = 14601.14"
   ]
  },
  {
   "cell_type": "code",
   "execution_count": 6,
   "metadata": {},
   "outputs": [
    {
     "name": "stdout",
     "output_type": "stream",
     "text": [
      "CUIL: 20367518503\n",
      "La base_imponible10 es menor al mínimo no imponible.\n",
      "Se actualizaron los siguientes valores:\n",
      " base_imponible10: 000000001460114\n",
      " importe_detraer: 000000000000000\n"
     ]
    }
   ],
   "source": [
    "for emp in txt.empleados:\n",
    "    base10 = int(emp.registro4['base_imponible10'])/100.0\n",
    "    \n",
    "    if base10 < MINIMO_NO_IMPONIBLE:\n",
    "\n",
    "        print(f\"CUIL: {emp}\")\n",
    "        print(\"La base_imponible10 es menor al mínimo no imponible.\")\n",
    "        \n",
    "        base8 = int(emp.registro4['base_imponible8'])/100.0\n",
    "        detraccion = max(0,round(base10 - base8,2))\n",
    "        \n",
    "        emp.registro4['base_imponible10'] = dbl_con_ceros(MINIMO_NO_IMPONIBLE, diseño_registro.DISEÑO4['base_imponible10'])\n",
    "        emp.registro4['importe_detraer'] = dbl_con_ceros(detraccion, diseño_registro.DISEÑO4['importe_detraer'])\n",
    "        \n",
    "        print(\"Se actualizaron los siguientes valores:\")\n",
    "        print(f\" base_imponible10: {emp.registro4['base_imponible10']}\")\n",
    "        print(f\" importe_detraer: {emp.registro4['importe_detraer']}\")\n"
   ]
  },
  {
   "cell_type": "markdown",
   "metadata": {},
   "source": [
    "### [Ejemplo] Incorporación del SAC a determinados CUILs"
   ]
  },
  {
   "cell_type": "code",
   "execution_count": 7,
   "metadata": {},
   "outputs": [
    {
     "data": {
      "text/plain": [
       "{'27257004290': {'dias': '120', 'importe': 100.5},\n",
       " '20290290393': {'dias': '120', 'importe': 100.5}}"
      ]
     },
     "execution_count": 7,
     "metadata": {},
     "output_type": "execute_result"
    }
   ],
   "source": [
    "# Pegar a continuación:\n",
    "#  CUIL Cnt.Dias Importe\n",
    "info = \"\"\"\n",
    "27257004290\t120\t100,5\n",
    "20290290393\t120\t100,5\n",
    "\"\"\"\n",
    "\n",
    "\n",
    "info = info.strip().split('\\n')\n",
    "\n",
    "cuils_agregar = {}\n",
    "for i in info:\n",
    "    cortado = i.split('\\t')\n",
    "    cuils_agregar[cortado[0]] = {'dias': cortado[1], 'importe': float(cortado[2].replace(',','.'))}\n",
    "\n",
    "cuils_agregar"
   ]
  },
  {
   "cell_type": "code",
   "execution_count": 8,
   "metadata": {},
   "outputs": [],
   "source": [
    "for emp in txt.empleados:\n",
    "    if emp in list(cuils_agregar.keys()):\n",
    "\n",
    "        dias = str(cuils_agregar[emp.cuil]['dias']).zfill(5)\n",
    "        importe = dbl_con_ceros(cuils_agregar[emp.cuil]['importe'], 15)\n",
    "\n",
    "        emp.conceptos.append({\n",
    "            'registro':                     '03',\n",
    "            'cuil':                         emp.cuil,\n",
    "            'codigo_concepto_liquidado':    '/S13      ',\n",
    "            'cantidad':                     dias,\n",
    "            'unidades':                     'D',\n",
    "            'importe':                      importe,\n",
    "            'debcre':                       'C',\n",
    "            'periodo_retro':                '      '\n",
    "        })"
   ]
  },
  {
   "cell_type": "markdown",
   "metadata": {},
   "source": [
    "## [Ejemplo] Asignación de seguro de vida a Pasantes"
   ]
  },
  {
   "cell_type": "code",
   "execution_count": 16,
   "metadata": {},
   "outputs": [],
   "source": [
    "for emp in txt.empleados:\n",
    "    if emp.registro4['modalidad_contratacion'] == '027':\n",
    "        emp.registro4['marca_scvo'] = '1'"
   ]
  },
  {
   "cell_type": "markdown",
   "metadata": {},
   "source": [
    "## [Ejemplo] Eliminación de información para determinados CUILs"
   ]
  },
  {
   "cell_type": "code",
   "execution_count": 3,
   "metadata": {},
   "outputs": [],
   "source": [
    "cuils_eliminar = \"\"\"\n",
    "27431423796\n",
    "20395468457\n",
    "\"\"\"\n",
    "cuils_eliminar = cuils_eliminar.strip().split('\\n')\n",
    "\n",
    "\n",
    "for emp in txt.empleados:\n",
    "    if emp in cuils_eliminar:\n",
    "        del emp"
   ]
  },
  {
   "cell_type": "markdown",
   "metadata": {},
   "source": [
    "## Guardado del archivo modificado"
   ]
  },
  {
   "cell_type": "code",
   "execution_count": 4,
   "metadata": {},
   "outputs": [
    {
     "ename": "AttributeError",
     "evalue": "'Empleado' object has no attribute 'registro2'",
     "output_type": "error",
     "traceback": [
      "\u001b[1;31m---------------------------------------------------------------------------\u001b[0m",
      "\u001b[1;31mAttributeError\u001b[0m                            Traceback (most recent call last)",
      "Cell \u001b[1;32mIn [4], line 2\u001b[0m\n\u001b[0;32m      1\u001b[0m \u001b[39m#txt.guardar(inplace=True)\u001b[39;00m\n\u001b[1;32m----> 2\u001b[0m txt\u001b[39m.\u001b[39;49mguardar()\n",
      "File \u001b[1;32mc:\\Users\\u161900\\Desktop\\Pau\\librosueldos\\lector_archivo.py:109\u001b[0m, in \u001b[0;36mArchivoPresentacion.guardar\u001b[1;34m(self, inplace)\u001b[0m\n\u001b[0;32m    107\u001b[0m reg2 \u001b[39m=\u001b[39m []\n\u001b[0;32m    108\u001b[0m \u001b[39mfor\u001b[39;00m emp \u001b[39min\u001b[39;00m \u001b[39mself\u001b[39m\u001b[39m.\u001b[39mempleados:\n\u001b[1;32m--> 109\u001b[0m     linea \u001b[39m=\u001b[39m \u001b[39mf\u001b[39m\u001b[39m\"\u001b[39m\u001b[39m\\n\u001b[39;00m\u001b[39m{\u001b[39;00mdiseño_registro\u001b[39m.\u001b[39mdict_to_linea(emp\u001b[39m.\u001b[39mregistro2)\u001b[39m}\u001b[39;00m\u001b[39m\"\u001b[39m\n\u001b[0;32m    110\u001b[0m     reg2\u001b[39m.\u001b[39mappend(linea)\n\u001b[0;32m    112\u001b[0m reg3 \u001b[39m=\u001b[39m []\n",
      "\u001b[1;31mAttributeError\u001b[0m: 'Empleado' object has no attribute 'registro2'"
     ]
    }
   ],
   "source": [
    "#txt.guardar(inplace=True)\n",
    "txt.guardar()"
   ]
  }
 ],
 "metadata": {
  "kernelspec": {
   "display_name": "Python 3",
   "language": "python",
   "name": "python3"
  },
  "language_info": {
   "codemirror_mode": {
    "name": "ipython",
    "version": 3
   },
   "file_extension": ".py",
   "mimetype": "text/x-python",
   "name": "python",
   "nbconvert_exporter": "python",
   "pygments_lexer": "ipython3",
   "version": "3.11.0rc2"
  },
  "orig_nbformat": 4,
  "vscode": {
   "interpreter": {
    "hash": "489da45e67f7d7cb6c4ba3d410bcd32e6535775444f83c164f24a0eb3ec0efb4"
   }
  }
 },
 "nbformat": 4,
 "nbformat_minor": 2
}
