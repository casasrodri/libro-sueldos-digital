{
 "cells": [
  {
   "cell_type": "markdown",
   "metadata": {},
   "source": [
    "## Importación de librerías y declaración de funciones"
   ]
  },
  {
   "cell_type": "code",
   "execution_count": 7,
   "metadata": {
    "tags": []
   },
   "outputs": [],
   "source": [
    "import diseño_registro\n",
    "from lector_archivo import ArchivoPresentacion\n",
    "from helpers import listado\n",
    "import math\n",
    "\n",
    "def dbl_con_ceros(num, cant):\n",
    "    return \"{:.2f}\".format(num).replace('.','').zfill(cant)"
   ]
  },
  {
   "cell_type": "markdown",
   "metadata": {},
   "source": [
    "## Apertura del TXT"
   ]
  },
  {
   "cell_type": "code",
   "execution_count": 8,
   "metadata": {
    "tags": []
   },
   "outputs": [],
   "source": [
    "txt = ArchivoPresentacion(r\"txt_presentaciones\\A10_AUS_A16.txt\")"
   ]
  },
  {
   "cell_type": "markdown",
   "metadata": {},
   "source": [
    "## Modificación de datos dentro del TXT"
   ]
  },
  {
   "cell_type": "markdown",
   "metadata": {},
   "source": [
    "### Modificación del código de liquidación para ciertos CUILs:"
   ]
  },
  {
   "cell_type": "code",
   "execution_count": 10,
   "metadata": {},
   "outputs": [],
   "source": [
    "cuils_modificar = listado(\"\"\"\n",
    "20276914155\n",
    "20299391583\n",
    "20264959013\n",
    "20369619706\n",
    "20320995680\n",
    "20237969341\n",
    "20355259839\n",
    "20279576463\n",
    "20254068056\n",
    "23315494699\n",
    "23205421769\n",
    "20289467220\n",
    "20181290405\n",
    "\n",
    "\"\"\")\n",
    "\n",
    "# Respetar el ancho del string\n",
    "codigo_anterior = 'VAC9      '\n",
    "codigo_nuevo = '/109A     '"
   ]
  },
  {
   "cell_type": "code",
   "execution_count": 11,
   "metadata": {},
   "outputs": [],
   "source": [
    "for e in txt.empleados:\n",
    "    if e in cuils_modificar: # Si es para todos, esta comprobación no se haría.\n",
    "        for concepto in e.conceptos:\n",
    "            if concepto['codigo_concepto_liquidado'] == codigo_anterior:\n",
    "                concepto['codigo_concepto_liquidado'] = codigo_nuevo\n",
    "                concepto['cantidad'] = '00000'\n",
    "                concepto['unidades'] = ' '"
   ]
  },
  {
   "cell_type": "code",
   "execution_count": 6,
   "metadata": {},
   "outputs": [],
   "source": [
    "for e in txt.empleados:\n",
    "    if e in cuils_modificar:\n",
    "        e.registro2['dias_prop_tope'] = '030'"
   ]
  },
  {
   "cell_type": "markdown",
   "metadata": {},
   "source": [
    "### Verificación de que la remuneracion 10 no sea menor al MNI:"
   ]
  },
  {
   "cell_type": "code",
   "execution_count": 5,
   "metadata": {},
   "outputs": [],
   "source": [
    "MINIMO_NO_IMPONIBLE = 14_601.14"
   ]
  },
  {
   "cell_type": "code",
   "execution_count": null,
   "metadata": {},
   "outputs": [],
   "source": [
    "for e in txt.empleados:\n",
    "    base10 = int(e.registro4['base_imponible10'])/100.0\n",
    "    \n",
    "    if base10 < MINIMO_NO_IMPONIBLE:\n",
    "\n",
    "        print(f\"CUIL: {e}\")\n",
    "        print(\"La base_imponible10 es menor al mínimo no imponible.\")\n",
    "        \n",
    "        base8 = int(e.registro4['base_imponible8'])/100.0\n",
    "        detraccion = max(0,round(base10 - base8,2))\n",
    "        \n",
    "        e.registro4['base_imponible10'] = dbl_con_ceros(MINIMO_NO_IMPONIBLE, diseño_registro.DISEÑO4['base_imponible10'])\n",
    "        e.registro4['importe_detraer'] = dbl_con_ceros(detraccion, diseño_registro.DISEÑO4['importe_detraer'])\n",
    "        \n",
    "        print(\"Se actualizaron los siguientes valores:\")\n",
    "        print(f\" base_imponible10: {e.registro4['base_imponible10']}\")\n",
    "        print(f\" importe_detraer: {e.registro4['importe_detraer']}\")"
   ]
  },
  {
   "cell_type": "markdown",
   "metadata": {},
   "source": [
    "### Incorporación del SAC a determinados CUILs"
   ]
  },
  {
   "cell_type": "code",
   "execution_count": null,
   "metadata": {},
   "outputs": [],
   "source": [
    "# Pegar a continuación:\n",
    "#  CUIT Cnt.Dias Importe\n",
    "info = \"\"\"\n",
    "27257004290\t120\t100,5\n",
    "20290290393\t120\t100,5\n",
    "\n",
    "\"\"\"\n",
    "info = info.strip().split('\\n')\n",
    "\n",
    "cuils_agregar = {}\n",
    "for i in info:\n",
    "    cortado = i.split('\\t')\n",
    "    cuils_agregar[cortado[0]] = {'dias': cortado[1], 'importe': float(cortado[2].replace(',','.'))}\n",
    "\n",
    "cuils_agregar"
   ]
  },
  {
   "cell_type": "code",
   "execution_count": 8,
   "metadata": {},
   "outputs": [],
   "source": [
    "for e in txt.empleados:\n",
    "    if e in list(cuils_agregar.keys()):\n",
    "\n",
    "        dias = str(cuils_agregar[e.cuit]['dias']).zfill(5)\n",
    "        importe = dbl_con_ceros(cuils_agregar[e.cuit]['importe'], 15)\n",
    "\n",
    "        e.conceptos.append({\n",
    "            'registro':                     '03',\n",
    "            'cuil':                         e.cuit,\n",
    "            'codigo_concepto_liquidado':    '/S13      ',\n",
    "            'cantidad':                     dias,\n",
    "            'unidades':                     'D',\n",
    "            'importe':                      importe,\n",
    "            'debcre':                       'C',\n",
    "            'periodo_retro':                '      '\n",
    "        })"
   ]
  },
  {
   "cell_type": "markdown",
   "metadata": {},
   "source": [
    "### Asignación de seguro de vida a Pasantes"
   ]
  },
  {
   "cell_type": "code",
   "execution_count": 4,
   "metadata": {},
   "outputs": [],
   "source": [
    "for e in txt.empleados:\n",
    "    if e.registro4['modalidad_contratacion'] == '027':\n",
    "        e.registro4['marca_scvo'] = '1'"
   ]
  },
  {
   "cell_type": "markdown",
   "metadata": {},
   "source": [
    "### Eliminar registros de determinados CUILs"
   ]
  },
  {
   "cell_type": "code",
   "execution_count": 9,
   "metadata": {},
   "outputs": [],
   "source": [
    "cuil_eliminar = listado(\"\"\"\n",
    "27408691201\n",
    "20395468457\n",
    "\n",
    "\"\"\")"
   ]
  },
  {
   "cell_type": "code",
   "execution_count": null,
   "metadata": {},
   "outputs": [],
   "source": [
    "for e in txt.empleados:\n",
    "    if e in cuil_eliminar:\n",
    "        txt.empleados.remove(e)"
   ]
  },
  {
   "cell_type": "markdown",
   "metadata": {},
   "source": [
    "### Adecuación `dias-tope` según remuneraciones sujetas a tope"
   ]
  },
  {
   "cell_type": "code",
   "execution_count": 13,
   "metadata": {},
   "outputs": [
    {
     "name": "stdout",
     "output_type": "stream",
     "text": [
      "CUIL Rem1 Rem4 Rem5 dias_orig dias_modif\n"
     ]
    }
   ],
   "source": [
    "TOPE_MENSUAL = 474_530.27\n",
    "TOPE_DIARIO = TOPE_MENSUAL / 30\n",
    "\n",
    "print('CUIL', 'Rem1', 'Rem4', 'Rem5', 'dias_orig', 'dias_modif')\n",
    "for e in txt.empleados:\n",
    "\n",
    "    # Remuneraciones con tope: 1, 4 y 5\n",
    "    rem1 = int(e.registro4['base_imponible1'])/100.0\n",
    "    rem4 = int(e.registro4['base_imponible4'])/100.0\n",
    "    rem5 = int(e.registro4['base_imponible5'])/100.0\n",
    "    dias = int(e.registro2['dias_prop_tope'])\n",
    "\n",
    "    tope_aplicable = TOPE_DIARIO * dias\n",
    "    control = max(rem1, rem4, rem5) > tope_aplicable\n",
    "\n",
    "    if control:\n",
    "        \n",
    "        dias_suficiente = math.ceil(max(rem1, rem4, rem5) / TOPE_DIARIO)\n",
    "        dias_suficiente = str(dias_suficiente).zfill(3)\n",
    "\n",
    "        e.registro2['dias_prop_tope'] = dias_suficiente\n",
    "        print(e, rem1, rem4, rem5, dias, dias_suficiente) "
   ]
  },
  {
   "cell_type": "markdown",
   "metadata": {},
   "source": [
    "### Reemplazo tope para `rem1`, `rem4` y `rem5` según tope aplicable"
   ]
  },
  {
   "cell_type": "code",
   "execution_count": null,
   "metadata": {},
   "outputs": [],
   "source": [
    "cuil_modificar = listado(\"\"\"\n",
    "27408691201\n",
    "20395468457\n",
    "\n",
    "\"\"\")"
   ]
  },
  {
   "cell_type": "code",
   "execution_count": null,
   "metadata": {},
   "outputs": [],
   "source": [
    "TOPE_MENSUAL = 474_530.27\n",
    "TOPE_DIARIO = TOPE_MENSUAL / 30\n",
    "\n",
    "print('CUIL', 'Rem1', 'Rem4', 'Rem5', 'dias_orig', 'dias_modif', 'nuevo_tope')\n",
    "\n",
    "for e in txt.empleados:\n",
    "\n",
    "    # Remuneraciones con tope: 1, 4 y 5\n",
    "    rem1 = int(e.registro4['base_imponible1'])/100.0\n",
    "    rem4 = int(e.registro4['base_imponible4'])/100.0\n",
    "    rem5 = int(e.registro4['base_imponible5'])/100.0\n",
    "    dias = int(e.registro2['dias_prop_tope'])\n",
    "\n",
    "    tope_aplicable = TOPE_DIARIO * dias\n",
    "    control = max(rem1, rem4, rem5) > tope_aplicable\n",
    "\n",
    "    if control and e in cuil_modificar:\n",
    "        \n",
    "        # Modificación de dias para tope\n",
    "        dias_suficiente = math.ceil(max(rem1, rem4, rem5) / TOPE_DIARIO)\n",
    "        dias_suficiente = str(dias_suficiente).zfill(3)\n",
    "\n",
    "        e.registro2['dias_prop_tope'] = dias_suficiente\n",
    "\n",
    "        # Modificación de bases imponibles\n",
    "        nuevo_valor = dbl_con_ceros(tope_aplicable, 15)\n",
    "\n",
    "        e.registro4['base_imponible1'] = nuevo_valor\n",
    "        e.registro4['base_imponible4'] = nuevo_valor\n",
    "        e.registro4['base_imponible5'] = nuevo_valor\n",
    "        \n",
    "        print(e, rem1, rem4, rem5, dias, dias_suficiente, nuevo_valor) "
   ]
  },
  {
   "cell_type": "markdown",
   "metadata": {},
   "source": [
    "## Guardado del archivo modificado"
   ]
  },
  {
   "cell_type": "code",
   "execution_count": null,
   "metadata": {},
   "outputs": [],
   "source": [
    "#txt.guardar(inplace=True)\n",
    "txt.guardar()"
   ]
  }
 ],
 "metadata": {
  "kernelspec": {
   "display_name": "Python 3",
   "language": "python",
   "name": "python3"
  },
  "language_info": {
   "codemirror_mode": {
    "name": "ipython",
    "version": 3
   },
   "file_extension": ".py",
   "mimetype": "text/x-python",
   "name": "python",
   "nbconvert_exporter": "python",
   "pygments_lexer": "ipython3",
   "version": "3.10.8 (tags/v3.10.8:aaaf517, Oct 11 2022, 16:50:30) [MSC v.1933 64 bit (AMD64)]"
  },
  "orig_nbformat": 4,
  "vscode": {
   "interpreter": {
    "hash": "26de051ba29f2982a8de78e945f0abaf191376122a1563185a90213a26c5da77"
   }
  }
 },
 "nbformat": 4,
 "nbformat_minor": 2
}
