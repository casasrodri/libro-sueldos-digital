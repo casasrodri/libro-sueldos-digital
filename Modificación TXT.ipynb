{
 "cells": [
  {
   "cell_type": "markdown",
   "metadata": {},
   "source": [
    "## Importación de librerías y declaración de funciones"
   ]
  },
  {
   "cell_type": "code",
   "execution_count": 31,
   "metadata": {},
   "outputs": [],
   "source": [
    "import diseño_registro\n",
    "from lector_archivo import ArchivoPresentacion\n",
    "\n",
    "def dbl_con_ceros(num, cant):\n",
    "    return \"{:.2f}\".format(num).replace('.','').zfill(cant)"
   ]
  },
  {
   "cell_type": "markdown",
   "metadata": {},
   "source": [
    "## Apertura del TXT"
   ]
  },
  {
   "cell_type": "code",
   "execution_count": 32,
   "metadata": {},
   "outputs": [],
   "source": [
    "txt = ArchivoPresentacion(r\"A10_AUS_A16.txt\")"
   ]
  },
  {
   "cell_type": "markdown",
   "metadata": {},
   "source": [
    "## Modificación de datos dentro del TXT"
   ]
  },
  {
   "cell_type": "markdown",
   "metadata": {},
   "source": [
    "### [Ejemplo] Modificación del código de liquidación para ciertos CUILs:"
   ]
  },
  {
   "cell_type": "code",
   "execution_count": 33,
   "metadata": {},
   "outputs": [],
   "source": [
    "cuils_modificar = \"\"\"\n",
    "27257004290\n",
    "20220879144\n",
    "\"\"\"\n",
    "\n",
    "# Respetar el ancho del string\n",
    "codigo_anterior = '/321      '\n",
    "codigo_nuevo = '/XXXxxx   '"
   ]
  },
  {
   "cell_type": "code",
   "execution_count": 34,
   "metadata": {},
   "outputs": [],
   "source": [
    "cuils_modificar = cuils_modificar.strip().split('\\n')\n",
    "\n",
    "for emp in txt.empleados:\n",
    "    if emp in cuils_modificar: # Si es para todos, esta comprobación no se haría.\n",
    "        for concepto in emp.conceptos:\n",
    "            if concepto['codigo_concepto_liquidado'] == codigo_anterior:\n",
    "                concepto['codigo_concepto_liquidado'] = codigo_nuevo"
   ]
  },
  {
   "cell_type": "markdown",
   "metadata": {},
   "source": [
    "### [Ejemplo] Verificación de que la remuneracion 10 no sea menor al MNI:"
   ]
  },
  {
   "cell_type": "code",
   "execution_count": 35,
   "metadata": {},
   "outputs": [],
   "source": [
    "MINIMO_NO_IMPONIBLE = 14601.14"
   ]
  },
  {
   "cell_type": "code",
   "execution_count": 36,
   "metadata": {},
   "outputs": [
    {
     "name": "stdout",
     "output_type": "stream",
     "text": [
      "CUIL: 20367518503\n",
      "La base_imponible10 es menor al mínimo no imponible.\n",
      "Se actualizaron los siguientes valores:\n",
      " base_imponible10: 000000001460114\n",
      " importe_detraer: 000000000000000\n"
     ]
    }
   ],
   "source": [
    "for emp in txt.empleados:\n",
    "    base10 = int(emp.registro4['base_imponible10'])/100.0\n",
    "    \n",
    "    if base10 < MINIMO_NO_IMPONIBLE:\n",
    "\n",
    "        print(f\"CUIL: {emp}\")\n",
    "        print(\"La base_imponible10 es menor al mínimo no imponible.\")\n",
    "        \n",
    "        base8 = int(emp.registro4['base_imponible8'])/100.0\n",
    "        detraccion = max(0,round(base10 - base8,2))\n",
    "        \n",
    "        emp.registro4['base_imponible10'] = dbl_con_ceros(MINIMO_NO_IMPONIBLE, diseño_registro.DISEÑO4['base_imponible10'])\n",
    "        emp.registro4['importe_detraer'] = dbl_con_ceros(detraccion, diseño_registro.DISEÑO4['importe_detraer'])\n",
    "        \n",
    "        print(\"Se actualizaron los siguientes valores:\")\n",
    "        print(f\" base_imponible10: {emp.registro4['base_imponible10']}\")\n",
    "        print(f\" importe_detraer: {emp.registro4['importe_detraer']}\")\n"
   ]
  },
  {
   "cell_type": "markdown",
   "metadata": {},
   "source": [
    "### [Ejemplo] Incorporación del SAC a determinados CUILs"
   ]
  },
  {
   "cell_type": "code",
   "execution_count": 37,
   "metadata": {},
   "outputs": [
    {
     "data": {
      "text/plain": [
       "{'27257004290': {'dias': '120', 'importe': 100.5},\n",
       " '20290290393': {'dias': '120', 'importe': 100.5}}"
      ]
     },
     "execution_count": 37,
     "metadata": {},
     "output_type": "execute_result"
    }
   ],
   "source": [
    "# Pegar a continuación:\n",
    "#  CUIT Cnt.Dias Importe\n",
    "info = \"\"\"\n",
    "27257004290\t120\t100,5\n",
    "20290290393\t120\t100,5\n",
    "\"\"\"\n",
    "\n",
    "\n",
    "info = info.strip().split('\\n')\n",
    "\n",
    "cuils_agregar = {}\n",
    "for i in info:\n",
    "    cortado = i.split('\\t')\n",
    "    cuils_agregar[cortado[0]] = {'dias': cortado[1], 'importe': float(cortado[2].replace(',','.'))}\n",
    "\n",
    "cuils_agregar"
   ]
  },
  {
   "cell_type": "code",
   "execution_count": 38,
   "metadata": {},
   "outputs": [],
   "source": [
    "for emp in txt.empleados:\n",
    "    if emp in list(cuils_agregar.keys()):\n",
    "\n",
    "        dias = str(cuils_agregar[emp.cuit]['dias']).zfill(5)\n",
    "        importe = dbl_con_ceros(cuils_agregar[emp.cuit]['importe'], 15)\n",
    "\n",
    "        emp.conceptos.append({\n",
    "            'registro':                     '03',\n",
    "            'cuil':                         emp.cuit,\n",
    "            'codigo_concepto_liquidado':    '/S13      ',\n",
    "            'cantidad':                     dias,\n",
    "            'unidades':                     'D',\n",
    "            'importe':                      importe,\n",
    "            'debcre':                       'C',\n",
    "            'periodo_retro':                '      '\n",
    "        })"
   ]
  },
  {
   "cell_type": "markdown",
   "metadata": {},
   "source": [
    "## Guardado del archivo modificado"
   ]
  },
  {
   "cell_type": "code",
   "execution_count": 40,
   "metadata": {},
   "outputs": [
    {
     "name": "stdout",
     "output_type": "stream",
     "text": [
      "Se guardo el txt correctamente!\n"
     ]
    }
   ],
   "source": [
    "#txt.guardar(inplace=True)\n",
    "txt.guardar()"
   ]
  }
 ],
 "metadata": {
  "kernelspec": {
   "display_name": "Python 3.10.7 64-bit",
   "language": "python",
   "name": "python3"
  },
  "language_info": {
   "codemirror_mode": {
    "name": "ipython",
    "version": 3
   },
   "file_extension": ".py",
   "mimetype": "text/x-python",
   "name": "python",
   "nbconvert_exporter": "python",
   "pygments_lexer": "ipython3",
   "version": "3.10.7"
  },
  "orig_nbformat": 4,
  "vscode": {
   "interpreter": {
    "hash": "cf96b071f30a396d8273bc9670241b6b166737f53a0dff988ecce5da7654d899"
   }
  }
 },
 "nbformat": 4,
 "nbformat_minor": 2
}
