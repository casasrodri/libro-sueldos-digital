{
 "cells": [
  {
   "cell_type": "markdown",
   "metadata": {},
   "source": [
    "## Importación de librerías y declaración de funciones"
   ]
  },
  {
   "cell_type": "code",
   "execution_count": 14,
   "metadata": {},
   "outputs": [],
   "source": [
    "import design_tables\n",
    "from lector_archivo import ArchivoPresentacion\n",
    "\n",
    "def dbl_con_ceros(num, cant):\n",
    "    return \"{:.2f}\".format(num).replace('.','').zfill(cant)"
   ]
  },
  {
   "cell_type": "markdown",
   "metadata": {},
   "source": [
    "## Apertura del TXT"
   ]
  },
  {
   "cell_type": "code",
   "execution_count": 15,
   "metadata": {},
   "outputs": [],
   "source": [
    "txt = ArchivoPresentacion(r\"presentaciones\\A10_AUS_A16.txt\")"
   ]
  },
  {
   "cell_type": "code",
   "execution_count": 17,
   "metadata": {},
   "outputs": [
    {
     "name": "stdout",
     "output_type": "stream",
     "text": [
      "<Empleado>\n",
      "  actividad                      : 049\n",
      "  adherentes_obra_soc            : 00\n",
      "  aporte_adic_obra_soc           : 000000000000000\n",
      "  base_aporte_obra_social_fsr    : 000000000000000\n",
      "  base_contrib_obra_social_fsr   : 000000000000000\n",
      "  base_dif_aporte_seg_soc        : 000000000000000\n",
      "  base_dif_contrib_seg_soc       : 000000000000000\n",
      "  base_diferencial_lrt           : 000000000000000\n",
      "  base_imponible1                : 000000014557331\n",
      "  base_imponible10               : 000000014393912\n",
      "  base_imponible2                : 000000014557331\n",
      "  base_imponible3                : 000000014557331\n",
      "  base_imponible4                : 000000014557331\n",
      "  base_imponible5                : 000000014557331\n",
      "  base_imponible6                : 000000000000000\n",
      "  base_imponible7                : 000000000000000\n",
      "  base_imponible8                : 000000014557331\n",
      "  base_imponible9                : 000000014557331\n",
      "  bruto                          : 000000014612331\n",
      "  cbu                            : 0070138530004008862511\n",
      "  condicion                      : 01\n",
      "  contrib_adic_obra_soc          : 000000000000000\n",
      "  conyuge                        : 0\n",
      "  cuil                           : 27257004290\n",
      "  dependencia_revista            : Adm.Per.Ser.                                      \n",
      "  dias_prop_tope                 : 030\n",
      "  dias_trabajados                : 30\n",
      "  fecha_pago                     : 20221028\n",
      "  fecha_rubrica                  : 20221027\n",
      "  forma_pago                     : 3\n",
      "  hijos                          : 00\n",
      "  horas_trabajadas               : 000\n",
      "  importe_detraer                : 000000000163419\n",
      "  legajo                         : 06002273  \n",
      "  localidad                      : 18\n",
      "  marca_cct                      : 0\n",
      "  marca_reduccion                : 0\n",
      "  marca_scvo                     : 1\n",
      "  modalidad_contratacion         : 008\n",
      "  obra_social                    : 400800\n",
      "  porc_adic_seg_soc              : 00000\n",
      "  porc_contrib_tarea_dif         : 00000\n",
      "  registro2                      : {'registro': '02', 'cuil': '27257004290', 'legajo': '06002273  ', 'dependencia_revista': 'Adm.Per.Ser.                                      ', 'cbu': '0070138530004008862511', 'dias_prop_tope': '030', 'fecha_pago': '20221028', 'fecha_rubrica': '20221027', 'forma_pago': '3'}\n",
      "  registro4                      : {'registro': '04', 'cuil': '27257004290', 'conyuge': '0', 'hijos': '00', 'marca_cct': '0', 'marca_scvo': '1', 'marca_reduccion': '0', 'tipo_empleador': '1', 'tipo_operacion': '0', 'sit_revista': '05', 'condicion': '01', 'actividad': '049', 'modalidad_contratacion': '008', 'siniestrado': '00', 'localidad': '18', 'sit_revista_1': '01', 'sit_revista_1_dia': '01', 'sit_revista_2': '05', 'sit_revista_2_dia': '09', 'sit_revista_3': '00', 'sit_revista_3_dia': '00', 'dias_trabajados': '30', 'horas_trabajadas': '000', 'porc_adic_seg_soc': '00000', 'porc_contrib_tarea_dif': '00000', 'obra_social': '400800', 'adherentes_obra_soc': '00', 'aporte_adic_obra_soc': '000000000000000', 'contrib_adic_obra_soc': '000000000000000', 'base_aporte_obra_social_fsr': '000000000000000', 'base_contrib_obra_social_fsr': '000000000000000', 'base_diferencial_lrt': '000000000000000', 'rem_maternidad_anses': '000000041852333', 'bruto': '000000014612331', 'base_imponible1': '000000014557331', 'base_imponible2': '000000014557331', 'base_imponible3': '000000014557331', 'base_imponible4': '000000014557331', 'base_imponible5': '000000014557331', 'base_imponible6': '000000000000000', 'base_imponible7': '000000000000000', 'base_imponible8': '000000014557331', 'base_imponible9': '000000014557331', 'base_dif_aporte_seg_soc': '000000000000000', 'base_dif_contrib_seg_soc': '000000000000000', 'base_imponible10': '000000014393912', 'importe_detraer': '000000000163419'}\n",
      "  rem_maternidad_anses           : 000000041852333\n",
      "  siniestrado                    : 00\n",
      "  sit_revista                    : 05\n",
      "  sit_revista_1                  : 01\n",
      "  sit_revista_1_dia              : 01\n",
      "  sit_revista_2                  : 05\n",
      "  sit_revista_2_dia              : 09\n",
      "  sit_revista_3                  : 00\n",
      "  sit_revista_3_dia              : 00\n",
      "  tipo_empleador                 : 1\n",
      "  tipo_operacion                 : 0\n",
      "\n",
      "  Cant. conceptos liquidados:    : 13\n",
      "\n"
     ]
    }
   ],
   "source": [
    "print(txt.empleados[0])"
   ]
  },
  {
   "cell_type": "code",
   "execution_count": 2,
   "metadata": {},
   "outputs": [
    {
     "data": {
      "text/plain": [
       "{'registro': 2,\n",
       " 'cuil': 11,\n",
       " 'conyuge': 1,\n",
       " 'hijos': 2,\n",
       " 'marca_cct': 1,\n",
       " 'marca_scvo': 1,\n",
       " 'marca_reduccion': 1,\n",
       " 'tipo_empleador': 1,\n",
       " 'tipo_operacion': 1,\n",
       " 'sit_revista': 2,\n",
       " 'condicion': 2,\n",
       " 'actividad': 3,\n",
       " 'modalidad_contratacion': 3,\n",
       " 'siniestrado': 2,\n",
       " 'localidad': 2,\n",
       " 'sit_revista_1': 2,\n",
       " 'sit_revista_1_dia': 2,\n",
       " 'sit_revista_2': 2,\n",
       " 'sit_revista_2_dia': 2,\n",
       " 'sit_revista_3': 2,\n",
       " 'sit_revista_3_dia': 2,\n",
       " 'dias_trabajados': 2,\n",
       " 'horas_trabajadas': 3,\n",
       " 'porc_adic_seg_soc': 5,\n",
       " 'porc_contrib_tarea_dif': 5,\n",
       " 'obra_social': 6,\n",
       " 'adherentes_obra_soc': 3,\n",
       " 'aporte_adic_obra_soc': 15,\n",
       " 'contrib_adic_obra_soc': 15,\n",
       " 'base_aporte_obra_social_fsr': 15,\n",
       " 'base_contrib_obra_social_fsr': 15,\n",
       " 'base_diferencial_lrt': 15,\n",
       " 'rem_maternidad_anses': 15,\n",
       " 'bruto': 15,\n",
       " 'base_imponible1': 15,\n",
       " 'base_imponible2': 15,\n",
       " 'base_imponible3': 15,\n",
       " 'base_imponible4': 15,\n",
       " 'base_imponible5': 15,\n",
       " 'base_imponible6': 15,\n",
       " 'base_imponible7': 15,\n",
       " 'base_imponible8': 15,\n",
       " 'base_imponible9': 15,\n",
       " 'base_dif_aporte_seg_soc': 15,\n",
       " 'base_dif_contrib_seg_soc': 15,\n",
       " 'base_imponible10': 15,\n",
       " 'importe_detraer': 15}"
      ]
     },
     "execution_count": 2,
     "metadata": {},
     "output_type": "execute_result"
    }
   ],
   "source": [
    "import design_tables as dt\n",
    "dt.DISEÑO4.get_dict()"
   ]
  }
 ],
 "metadata": {
  "kernelspec": {
   "display_name": "Python 3",
   "language": "python",
   "name": "python3"
  },
  "language_info": {
   "codemirror_mode": {
    "name": "ipython",
    "version": 3
   },
   "file_extension": ".py",
   "mimetype": "text/x-python",
   "name": "python",
   "nbconvert_exporter": "python",
   "pygments_lexer": "ipython3",
   "version": "3.11.0rc2 (main, Sep 11 2022, 20:22:52) [MSC v.1933 64 bit (AMD64)]"
  },
  "orig_nbformat": 4,
  "vscode": {
   "interpreter": {
    "hash": "489da45e67f7d7cb6c4ba3d410bcd32e6535775444f83c164f24a0eb3ec0efb4"
   }
  }
 },
 "nbformat": 4,
 "nbformat_minor": 2
}
