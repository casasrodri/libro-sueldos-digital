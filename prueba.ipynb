{
 "cells": [
  {
   "cell_type": "markdown",
   "metadata": {},
   "source": [
    "## Importación de librerías y declaración de funciones"
   ]
  },
  {
   "cell_type": "code",
   "execution_count": 7,
   "metadata": {},
   "outputs": [],
   "source": [
    "from lsd.in_out.reader import Reader"
   ]
  },
  {
   "cell_type": "markdown",
   "metadata": {},
   "source": [
    "## Apertura del TXT"
   ]
  },
  {
   "cell_type": "code",
   "execution_count": 8,
   "metadata": {},
   "outputs": [],
   "source": [
    "txt = Reader(r\"txt_presentaciones\\A10_AUS_A16.txt\")"
   ]
  },
  {
   "cell_type": "code",
   "execution_count": 9,
   "metadata": {},
   "outputs": [
    {
     "data": {
      "text/plain": [
       "{'registro': 4,\n",
       " 'cuil': 27257004290,\n",
       " 'conyuge': False,\n",
       " 'hijos': 0,\n",
       " 'marca_cct': False,\n",
       " 'marca_scvo': True,\n",
       " 'marca_reduccion': False,\n",
       " 'tipo_empleador': 1,\n",
       " 'tipo_operacion': 0,\n",
       " 'sit_revista': 5,\n",
       " 'condicion': 1,\n",
       " 'actividad': 49,\n",
       " 'modalidad_contratacion': 8,\n",
       " 'siniestrado': 0,\n",
       " 'localidad': 18,\n",
       " 'sit_revista_1': 1,\n",
       " 'sit_revista_1_dia': 1,\n",
       " 'sit_revista_2': 5,\n",
       " 'sit_revista_2_dia': 9,\n",
       " 'sit_revista_3': 0,\n",
       " 'sit_revista_3_dia': 0,\n",
       " 'dias_trabajados': 30,\n",
       " 'horas_trabajadas': 0,\n",
       " 'porc_adic_seg_soc': 0.0,\n",
       " 'porc_contrib_tarea_dif': 0.0,\n",
       " 'obra_social': '400800',\n",
       " 'adherentes_obra_soc': 0,\n",
       " 'aporte_adic_obra_soc': 0.0,\n",
       " 'contrib_adic_obra_soc': 0.0,\n",
       " 'base_aporte_obra_social_fsr': 0.0,\n",
       " 'base_contrib_obra_social_fsr': 0.0,\n",
       " 'base_diferencial_lrt': 0.0,\n",
       " 'rem_maternidad_anses': 4185233.3,\n",
       " 'bruto': 1461233.1,\n",
       " 'base_imponible1': 1455733.1,\n",
       " 'base_imponible2': 1455733.1,\n",
       " 'base_imponible3': 1455733.1,\n",
       " 'base_imponible4': 1455733.1,\n",
       " 'base_imponible5': 1455733.1,\n",
       " 'base_imponible6': 0.0,\n",
       " 'base_imponible7': 0.0,\n",
       " 'base_imponible8': 1455733.1,\n",
       " 'base_imponible9': 1455733.1,\n",
       " 'base_dif_aporte_seg_soc': 0.0,\n",
       " 'base_dif_contrib_seg_soc': 0.0,\n",
       " 'base_imponible10': 1439391.2,\n",
       " 'importe_detraer': 1634.19}"
      ]
     },
     "execution_count": 9,
     "metadata": {},
     "output_type": "execute_result"
    }
   ],
   "source": [
    "txt.parse(\"0427257004290000010100501049008001801010509000030000000000000040080000000000000000000000000000000000000000000000000000000000000000000000000000000000000041852333000000014612331000000014557331000000014557331000000014557331000000014557331000000014557331000000000000000000000000000000000000014557331000000014557331000000000000000000000000000000000000014393912000000000163419\")"
   ]
  }
 ],
 "metadata": {
  "kernelspec": {
   "display_name": "Python 3",
   "language": "python",
   "name": "python3"
  },
  "language_info": {
   "codemirror_mode": {
    "name": "ipython",
    "version": 3
   },
   "file_extension": ".py",
   "mimetype": "text/x-python",
   "name": "python",
   "nbconvert_exporter": "python",
   "pygments_lexer": "ipython3",
   "version": "3.11.0rc2"
  },
  "orig_nbformat": 4,
  "vscode": {
   "interpreter": {
    "hash": "489da45e67f7d7cb6c4ba3d410bcd32e6535775444f83c164f24a0eb3ec0efb4"
   }
  }
 },
 "nbformat": 4,
 "nbformat_minor": 2
}
