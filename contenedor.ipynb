{
 "cells": [
  {
   "cell_type": "code",
   "execution_count": 1,
   "metadata": {},
   "outputs": [],
   "source": [
    "class Contenedor():\n",
    "    def __init__(self, dicc=None) -> None:\n",
    "        if dicc != None:\n",
    "            self.attrs(dicc)\n",
    "\n",
    "    def attr(self, metodo, valor):\n",
    "        if type(valor) == str:\n",
    "            valor = f\"'{valor}'\"\n",
    "\n",
    "        exec(f\"self.{metodo} = {valor}\")\n",
    "\n",
    "    def attrs(self, dicc):\n",
    "        for k,v in dicc.items():\n",
    "            self.attr(k, v)\n",
    "\n",
    "    def __repr__(self) -> str:\n",
    "        return f\"<Contenedor> {str(self.__dict__)}\""
   ]
  },
  {
   "cell_type": "code",
   "execution_count": 2,
   "metadata": {},
   "outputs": [
    {
     "data": {
      "text/plain": [
       "<Contenedor> {'ssss': 'Rodrigo', 'apellido': 'Casas', 'edad': 30.1, 'estudiante': True}"
      ]
     },
     "execution_count": 2,
     "metadata": {},
     "output_type": "execute_result"
    }
   ],
   "source": [
    "aa = {'ssss': 'Rodrigo', 'apellido': 'Casas', 'edad': 30.1, 'estudiante': True}\n",
    "\n",
    "con = Contenedor(aa)\n",
    "\n",
    "con"
   ]
  },
  {
   "cell_type": "code",
   "execution_count": 10,
   "metadata": {},
   "outputs": [
    {
     "name": "stdout",
     "output_type": "stream",
     "text": [
      "<Contenedor> {'carrera': 'ing.soft', 'universidad': 'siglo21', 'otro': <Contenedor> {'ssss': 'Rodrigo', 'apellido': 'Casas', 'edad': 30.1, 'estudiante': True}}\n"
     ]
    },
    {
     "data": {
      "text/plain": [
       "<Contenedor> {'carrera': 'ing.soft', 'universidad': 'siglo21', 'otro': <Contenedor> {'ssss': 'Rodrigo', 'apellido': 'Casas', 'edad': 30.1, 'estudiante': True}, '_1': 23}"
      ]
     },
     "execution_count": 10,
     "metadata": {},
     "output_type": "execute_result"
    }
   ],
   "source": [
    "con2 = Contenedor({'carrera': 'ing.soft', 'universidad': 'siglo21'})\n",
    "con2.otro = con\n",
    "print(con2)# type: ignored\n",
    "con2._1 = 23\n",
    "con2"
   ]
  }
 ],
 "metadata": {
  "kernelspec": {
   "display_name": "Python 3",
   "language": "python",
   "name": "python3"
  },
  "language_info": {
   "codemirror_mode": {
    "name": "ipython",
    "version": 3
   },
   "file_extension": ".py",
   "mimetype": "text/x-python",
   "name": "python",
   "nbconvert_exporter": "python",
   "pygments_lexer": "ipython3",
   "version": "3.10.8"
  },
  "orig_nbformat": 4,
  "vscode": {
   "interpreter": {
    "hash": "26de051ba29f2982a8de78e945f0abaf191376122a1563185a90213a26c5da77"
   }
  }
 },
 "nbformat": 4,
 "nbformat_minor": 2
}
